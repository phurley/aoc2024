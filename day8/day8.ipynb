{
 "cells": [
  {
   "cell_type": "code",
   "execution_count": 4,
   "metadata": {},
   "outputs": [],
   "source": [
    "import sys\n",
    "from collections import defaultdict"
   ]
  },
  {
   "cell_type": "code",
   "execution_count": 5,
   "metadata": {},
   "outputs": [],
   "source": [
    "def inbounds(map, x, y):\n",
    "    return 0 <= x < len(map[0]) and 0 <= y < len(map)"
   ]
  },
  {
   "cell_type": "code",
   "execution_count": 6,
   "metadata": {},
   "outputs": [],
   "source": [
    "def antinodes(p1, p2, data):\n",
    "    p1_pts = set()\n",
    "    p2_pts = {p1, p2}\n",
    "\n",
    "    x1, y1 = p1\n",
    "    x2, y2 = p2\n",
    "    dx = x2 - x1\n",
    "    dy = y2 - y1\n",
    "\n",
    "    if inbounds(data, x1 - dx, y1 - dy):\n",
    "        p1_pts.add((x1 - dx, y1 - dy))\n",
    "    if inbounds(data, x2 + dx, y2 + dy):\n",
    "        p1_pts.add((x2 + dx, y2 + dy))\n",
    "\n",
    "    curX, curY = x1, y1\n",
    "    while True:\n",
    "        curX -= dx\n",
    "        curY -= dy\n",
    "        if not inbounds(data, curX, curY):\n",
    "            break\n",
    "        p2_pts.add((curX, curY))\n",
    "\n",
    "    curX, curY = x1, y1\n",
    "    while True:\n",
    "        curX += dx\n",
    "        curY += dy\n",
    "        if not inbounds(data, curX, curY):\n",
    "            break\n",
    "        p2_pts.add((curX, curY))\n",
    "\n",
    "    return p1_pts, p2_pts"
   ]
  },
  {
   "cell_type": "code",
   "execution_count": 8,
   "metadata": {},
   "outputs": [
    {
     "name": "stdout",
     "output_type": "stream",
     "text": [
      "Part 1: 240\n",
      "Part 2: 955\n"
     ]
    }
   ],
   "source": [
    "data = open(\"input.txt\").read().strip().split(\"\\n\")\n",
    "\n",
    "lut = defaultdict(list)\n",
    "for y in range(len(data)):\n",
    "    for x in range(len(data[0])):\n",
    "        if data[y][x] == \".\":\n",
    "            continue\n",
    "        lut[data[y][x]].append((x, y))\n",
    "\n",
    "p1 = set()\n",
    "p2 = set()\n",
    "for f, l in lut.items():\n",
    "    for i in range(len(l)):\n",
    "        for j in range(i + 1, len(l)):\n",
    "            p1_pts, p2_pts = antinodes(l[i], l[j], data)\n",
    "            p1.update(p1_pts)\n",
    "            p2.update(p2_pts)\n",
    "\n",
    "print(f\"Part 1: {len(p1)}\")\n",
    "print(f\"Part 2: {len(p2)}\")"
   ]
  },
  {
   "cell_type": "code",
   "execution_count": null,
   "metadata": {},
   "outputs": [],
   "source": []
  }
 ],
 "metadata": {
  "kernelspec": {
   "display_name": "Python 3",
   "language": "python",
   "name": "python3"
  },
  "language_info": {
   "codemirror_mode": {
    "name": "ipython",
    "version": 3
   },
   "file_extension": ".py",
   "mimetype": "text/x-python",
   "name": "python",
   "nbconvert_exporter": "python",
   "pygments_lexer": "ipython3",
   "version": "3.13.0"
  }
 },
 "nbformat": 4,
 "nbformat_minor": 2
}
