{
 "cells": [
  {
   "cell_type": "code",
   "execution_count": 3,
   "metadata": {},
   "outputs": [],
   "source": [
    "import sys\n",
    "import itertools"
   ]
  },
  {
   "cell_type": "code",
   "execution_count": 6,
   "metadata": {},
   "outputs": [
    {
     "name": "stdout",
     "output_type": "stream",
     "text": [
      "6359213660505\n"
     ]
    }
   ],
   "source": [
    "# Read all characters from standard input\n",
    "input_chars = open(\"input.txt\").read()\n",
    "\n",
    "# Convert each character to integer; non-digit characters are converted to 0\n",
    "digits = [int(c) if c.isdigit() else 0 for c in input_chars]\n",
    "\n",
    "# Slice the list into pairs (file, free). If there's an odd number of digits, 'free' is treated as 0\n",
    "pairs = list(itertools.zip_longest(*[iter(digits)]*2, fillvalue=0))\n",
    "\n",
    "filesystem = []\n",
    "for id, (file, free) in enumerate(pairs):\n",
    "    # Add 'id' repeated 'file' times\n",
    "    filesystem.extend([id] * file)\n",
    "    # Add 'None' repeated 'free' times\n",
    "    filesystem.extend([None] * free)\n",
    "\n",
    "# Function to find the first occurrence of None in the filesystem\n",
    "def find_freespace(fs):\n",
    "    try:\n",
    "        return fs.index(None)\n",
    "    except ValueError:\n",
    "        return -1  # Indicates no free space found\n",
    "\n",
    "# Reorganize the filesystem by filling free spaces with blocks from the end\n",
    "freespace = find_freespace(filesystem)\n",
    "while freespace != -1:\n",
    "    # Pop the last block from the filesystem\n",
    "    if not filesystem:\n",
    "        break  # Exit if filesystem is empty\n",
    "    block = filesystem.pop()\n",
    "    \n",
    "    # Continue popping if the block is None\n",
    "    while block is None and filesystem:\n",
    "        block = filesystem.pop()\n",
    "    \n",
    "    # If a valid block is found, place it in the first free space\n",
    "    if block is not None:\n",
    "        filesystem[freespace] = block\n",
    "    \n",
    "    # Find the next free space\n",
    "    freespace = find_freespace(filesystem)\n",
    "\n",
    "# Calculate the sum of (value * index) for each block in the filesystem\n",
    "total = sum((val if val is not None else 0) * idx for idx, val in enumerate(filesystem))\n",
    "\n",
    "# Pretty-print the result\n",
    "print(total)"
   ]
  },
  {
   "cell_type": "code",
   "execution_count": 7,
   "metadata": {},
   "outputs": [
    {
     "name": "stdout",
     "output_type": "stream",
     "text": [
      "6381624803796\n"
     ]
    }
   ],
   "source": [
    "# Build the filesystem list as a list of [value, size] pairs\n",
    "# For each pair and its index, add [id, file] and [None, free]\n",
    "filesystem = []\n",
    "for id, (file, free) in enumerate(pairs):\n",
    "    filesystem.append([id, file])\n",
    "    filesystem.append([None, free])\n",
    "\n",
    "# Initialize the pointer to the end of the filesystem\n",
    "pointer = len(filesystem)\n",
    "\n",
    "# Loop to reorganize the filesystem\n",
    "while True:\n",
    "    pointer -= 1\n",
    "    if pointer < 0:\n",
    "        break  # Exit if pointer goes out of bounds\n",
    "\n",
    "    file = filesystem[pointer]\n",
    "\n",
    "    # Skip over free spaces ([None, size])\n",
    "    while file[0] is None:\n",
    "        pointer -= 1\n",
    "        if pointer < 0:\n",
    "            break\n",
    "        file = filesystem[pointer]\n",
    "\n",
    "    if pointer < 0:\n",
    "        break  # Exit if no more files to process\n",
    "\n",
    "    if pointer == 0:\n",
    "        break  # Exit if pointer reaches the start\n",
    "\n",
    "    # Find the first free space where size >= file's size\n",
    "    freespace = next(\n",
    "        (i for i, (val, size) in enumerate(filesystem) if val is None and size >= file[1]),\n",
    "        None\n",
    "    )\n",
    "\n",
    "    if freespace is None:\n",
    "        continue  # No suitable free space found; proceed to the next file\n",
    "\n",
    "    if freespace > pointer:\n",
    "        continue  # Free space is after the current file; skip\n",
    "\n",
    "    # Perform the swap between file and free space\n",
    "    free_block = filesystem[freespace]\n",
    "    new_block = [file]  # Start with the current file\n",
    "\n",
    "    # Calculate the remaining space after placing the file\n",
    "    extra = free_block[1] - file[1]\n",
    "    if extra > 0:\n",
    "        new_block.append([None, extra])  # Add the remaining free space\n",
    "        pointer += 1  # Adjust the pointer due to the insertion\n",
    "\n",
    "    # Replace the free space with the new blocks\n",
    "    filesystem[freespace:freespace + 1] = new_block\n",
    "\n",
    "    # Mark the original file position as free with the file's size\n",
    "    filesystem[pointer] = [None, file[1]]\n",
    "\n",
    "    # Move the pointer back for the next iteration\n",
    "    pointer -= 1\n",
    "\n",
    "# Calculate the final sum based on the filesystem state\n",
    "index = 0\n",
    "total = 0\n",
    "for value, length in filesystem:\n",
    "    for n in range(length):\n",
    "        # Multiply the value by its current index and add to the total\n",
    "        total += (n + index) * (value if value is not None else 0)\n",
    "    index += length  # Update the index based on the block size\n",
    "\n",
    "# Output the result\n",
    "print(total)"
   ]
  },
  {
   "cell_type": "code",
   "execution_count": null,
   "metadata": {},
   "outputs": [],
   "source": []
  }
 ],
 "metadata": {
  "kernelspec": {
   "display_name": "Python 3",
   "language": "python",
   "name": "python3"
  },
  "language_info": {
   "codemirror_mode": {
    "name": "ipython",
    "version": 3
   },
   "file_extension": ".py",
   "mimetype": "text/x-python",
   "name": "python",
   "nbconvert_exporter": "python",
   "pygments_lexer": "ipython3",
   "version": "3.13.0"
  }
 },
 "nbformat": 4,
 "nbformat_minor": 2
}
