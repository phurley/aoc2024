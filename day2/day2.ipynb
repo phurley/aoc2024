{
 "cells": [
  {
   "cell_type": "code",
   "execution_count": 48,
   "metadata": {},
   "outputs": [],
   "source": [
    "from itertools import combinations"
   ]
  },
  {
   "cell_type": "code",
   "execution_count": 49,
   "metadata": {},
   "outputs": [],
   "source": [
    "def cmp(a,b):\n",
    "    return (a > b) - (a < b)"
   ]
  },
  {
   "cell_type": "code",
   "execution_count": 50,
   "metadata": {},
   "outputs": [],
   "source": [
    "def safe(array):\n",
    "    dir = cmp(array[0], array[1])\n",
    "    if dir == 0: return False\n",
    "\n",
    "    return all(\n",
    "        cmp(a, b) == dir and (1 <= abs(a-b) <= 3) \n",
    "        for a, b in zip(array, array[1:])\n",
    "    )"
   ]
  },
  {
   "cell_type": "code",
   "execution_count": 51,
   "metadata": {},
   "outputs": [],
   "source": [
    "def mostly_safe(array):\n",
    "    return any(safe(a) for a in combinations(array, len(array) - 1))"
   ]
  },
  {
   "cell_type": "code",
   "execution_count": 52,
   "metadata": {},
   "outputs": [
    {
     "name": "stdout",
     "output_type": "stream",
     "text": [
      "2\n",
      "4\n"
     ]
    }
   ],
   "source": [
    "# fname = 'input.txt'\n",
    "fname = 'tmp.txt'\n",
    "part1 = 0\n",
    "part2 = 0\n",
    "with open(fname) as file:\n",
    "    for line in file:\n",
    "        array = list(map(int, line.split()))\n",
    "        part1 += safe(array)\n",
    "        part2 += mostly_safe(array)\n",
    "\n",
    "print(part1)\n",
    "print(part2)"
   ]
  }
 ],
 "metadata": {
  "kernelspec": {
   "display_name": "Python 3",
   "language": "python",
   "name": "python3"
  },
  "language_info": {
   "codemirror_mode": {
    "name": "ipython",
    "version": 3
   },
   "file_extension": ".py",
   "mimetype": "text/x-python",
   "name": "python",
   "nbconvert_exporter": "python",
   "pygments_lexer": "ipython3",
   "version": "3.13.0"
  }
 },
 "nbformat": 4,
 "nbformat_minor": 2
}
