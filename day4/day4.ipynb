{
 "cells": [
  {
   "cell_type": "code",
   "execution_count": 227,
   "metadata": {},
   "outputs": [],
   "source": [
    "from collections import defaultdict\n",
    "from itertools import product"
   ]
  },
  {
   "cell_type": "code",
   "execution_count": 228,
   "metadata": {},
   "outputs": [],
   "source": [
    "# defaultdict does not fail when you index an unknown location -- it returns default value\n",
    "# the list comprehension reads the file by row, breaks it out by column and builds a dictionary\n",
    "grid = defaultdict(str, { (x, y):ch for y, row in enumerate(open('input.txt'))\n",
    "                                        for x, ch in enumerate(row) })"
   ]
  },
  {
   "cell_type": "code",
   "execution_count": 236,
   "metadata": {},
   "outputs": [
    {
     "data": {
      "text/plain": [
       "2567"
      ]
     },
     "execution_count": 236,
     "metadata": {},
     "output_type": "execute_result"
    }
   ],
   "source": [
    "# merry xmas\n",
    "target = [list('XMAS')]\n",
    "\n",
    "# all the directions\n",
    "deltas = [(dx, dy) for dx, dy in product((-1,0,1), repeat=2) if (dx,dy) != (0,0)]\n",
    "\n",
    "# start on X coords\n",
    "x_coords = [(x,y) for x,y in grid.keys() if grid[x,y] == 'X']\n",
    "\n",
    "# check 4 characters in every direction count XMAS matches\n",
    "sum([grid[x + dx*n, y + dy*n] for n in range(4)] in target for dx, dy in deltas for x,y in x_coords)"
   ]
  },
  {
   "cell_type": "code",
   "execution_count": 239,
   "metadata": {},
   "outputs": [
    {
     "data": {
      "text/plain": [
       "2029"
      ]
     },
     "execution_count": 239,
     "metadata": {},
     "output_type": "execute_result"
    }
   ],
   "source": [
    "# part 2 is actually easier this time\n",
    "deltas = (-1,1)\n",
    "\n",
    "# if we match MS or SM on both crosses of an A we have an X MAS\n",
    "targets = [list('MS'), list('SM')]\n",
    "\n",
    "# only check around the A coords\n",
    "a_coords = [(x,y) for x,y in grid.keys() if grid[x,y] == 'A']\n",
    "\n",
    "# count the number of times both crosses on an A are MAS or \n",
    "sum([grid[x+d, y+d] for d in deltas] in targets and [grid[x-d, y+d] for d in deltas] in targets for x,y in a_coords)"
   ]
  }
 ],
 "metadata": {
  "kernelspec": {
   "display_name": "Python 3",
   "language": "python",
   "name": "python3"
  },
  "language_info": {
   "codemirror_mode": {
    "name": "ipython",
    "version": 3
   },
   "file_extension": ".py",
   "mimetype": "text/x-python",
   "name": "python",
   "nbconvert_exporter": "python",
   "pygments_lexer": "ipython3",
   "version": "3.13.0"
  }
 },
 "nbformat": 4,
 "nbformat_minor": 2
}
