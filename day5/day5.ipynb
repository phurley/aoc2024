{
 "cells": [
  {
   "cell_type": "code",
   "execution_count": 45,
   "metadata": {},
   "outputs": [],
   "source": [
    "from functools import cmp_to_key"
   ]
  },
  {
   "cell_type": "code",
   "execution_count": 46,
   "metadata": {},
   "outputs": [],
   "source": [
    "rules, pages_text = open(\"input.txt\").read().split(\"\\n\\n\")"
   ]
  },
  {
   "cell_type": "code",
   "execution_count": 47,
   "metadata": {},
   "outputs": [],
   "source": [
    "pages = [p.split(',') for p in pages_text.split()]"
   ]
  },
  {
   "cell_type": "code",
   "execution_count": 48,
   "metadata": {},
   "outputs": [
    {
     "name": "stdout",
     "output_type": "stream",
     "text": [
      "6051\n",
      "5093\n"
     ]
    }
   ],
   "source": [
    "good = bad = 0\n",
    "for p in pages:\n",
    "    f = sorted(\n",
    "        p,\n",
    "        key=cmp_to_key(lambda a, b: 1 if f\"{b}|{a}\" in rules else -1)\n",
    "    )\n",
    "    if p == f:\n",
    "        good += int(p[len(p) // 2])\n",
    "    else:\n",
    "        bad += int(f[len(f) // 2])\n",
    "\n",
    "print(good)\n",
    "print(bad)"
   ]
  }
 ],
 "metadata": {
  "kernelspec": {
   "display_name": "Python 3",
   "language": "python",
   "name": "python3"
  },
  "language_info": {
   "codemirror_mode": {
    "name": "ipython",
    "version": 3
   },
   "file_extension": ".py",
   "mimetype": "text/x-python",
   "name": "python",
   "nbconvert_exporter": "python",
   "pygments_lexer": "ipython3",
   "version": "3.13.0"
  }
 },
 "nbformat": 4,
 "nbformat_minor": 2
}
