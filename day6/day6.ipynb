{
 "cells": [
  {
   "cell_type": "code",
   "execution_count": 326,
   "metadata": {},
   "outputs": [],
   "source": [
    "import sys\n",
    "from collections import defaultdict"
   ]
  },
  {
   "cell_type": "code",
   "execution_count": 327,
   "metadata": {},
   "outputs": [],
   "source": [
    "map = [l.strip() for l in open(\"input.txt\")]"
   ]
  },
  {
   "cell_type": "code",
   "execution_count": 328,
   "metadata": {},
   "outputs": [],
   "source": [
    "options = {\"^\":(\">\", (0,-1)), \">\":(\"v\", (1,0)), \"v\":(\"<\", (0,1)), \"<\":(\"^\", (-1,0))}"
   ]
  },
  {
   "cell_type": "code",
   "execution_count": 329,
   "metadata": {},
   "outputs": [],
   "source": [
    "# Find starting position\n",
    "start=(0,0)\n",
    "dir = \">\"\n",
    "grid = defaultdict(str)\n",
    "for row in range(len(map)):\n",
    "    for col in range(len(map[row])):\n",
    "        ch = map[row][col]\n",
    "        pos=(col,row)\n",
    "        if ch in options:\n",
    "            start = pos\n",
    "            dir=map[row][col]\n",
    "        elif ch == \"#\":\n",
    "            grid[pos] = ch"
   ]
  },
  {
   "cell_type": "code",
   "execution_count": 330,
   "metadata": {},
   "outputs": [],
   "source": [
    "width = len(map[0])\n",
    "height = len(map)\n",
    "\n",
    "def in_bounds(pos):\n",
    "    return (pos[0]>=0 and pos[0]<width) and (pos[1]>=0 and pos[1]<height)"
   ]
  },
  {
   "cell_type": "code",
   "execution_count": 331,
   "metadata": {},
   "outputs": [],
   "source": [
    "locations = set()\n",
    "dir = \"^\" # not needed, but makes re-running this block much easier\n",
    "(_, delta) = options[dir]\n",
    "pos = start\n",
    " \n",
    "while in_bounds(pos):\n",
    "    locations.add(pos)\n",
    "    new_pos = tuple(i + j for i, j in zip (pos, delta))\n",
    "    if grid[new_pos] == \"#\":\n",
    "        (dir, delta) = options[dir]\n",
    "        (_, delta) = options[dir]\n",
    "    else:\n",
    "        pos = new_pos"
   ]
  },
  {
   "cell_type": "code",
   "execution_count": 332,
   "metadata": {},
   "outputs": [
    {
     "data": {
      "text/plain": [
       "5239"
      ]
     },
     "execution_count": 332,
     "metadata": {},
     "output_type": "execute_result"
    }
   ],
   "source": [
    "len(locations)"
   ]
  },
  {
   "cell_type": "code",
   "execution_count": 333,
   "metadata": {},
   "outputs": [],
   "source": [
    "def display(grid, locations):\n",
    "    for row in range(height):\n",
    "        for col in range(width):\n",
    "            pos = (col, row)\n",
    "            if pos in grid and grid[pos] != \"\":\n",
    "                print(grid[pos], end=\"\")\n",
    "            elif pos in locations:\n",
    "                print(locations[pos], end=\"\")\n",
    "            else:\n",
    "                print(\".\", end=\"\")\n",
    "        print()"
   ]
  },
  {
   "cell_type": "code",
   "execution_count": 334,
   "metadata": {},
   "outputs": [],
   "source": [
    "def is_loop(grid, obstruction):\n",
    "    grid = grid.copy()\n",
    "    grid[obstruction] = \"#\"\n",
    "\n",
    "    locations = set()\n",
    "    dir = \"^\"\n",
    "    (_, delta) = options[dir]\n",
    "    pos = start\n",
    "    \n",
    "    while in_bounds(pos):\n",
    "        if (pos, dir) in locations:\n",
    "            return True        \n",
    "        locations.add((pos, dir))\n",
    "\n",
    "        new_pos = tuple(i + j for i, j in zip (pos, delta))\n",
    "        if grid[new_pos] == \"#\":\n",
    "            (dir, _) = options[dir]\n",
    "            (_, delta) = options[dir]\n",
    "        else:\n",
    "            pos = new_pos\n",
    "    \n",
    "    return False"
   ]
  },
  {
   "cell_type": "code",
   "execution_count": 335,
   "metadata": {},
   "outputs": [
    {
     "data": {
      "text/plain": [
       "1753"
      ]
     },
     "execution_count": 335,
     "metadata": {},
     "output_type": "execute_result"
    }
   ],
   "source": [
    "count = 0\n",
    "for location in locations:\n",
    "    if is_loop(grid, location):\n",
    "        count += 1\n",
    "    \n",
    "count\n"
   ]
  }
 ],
 "metadata": {
  "kernelspec": {
   "display_name": "Python 3",
   "language": "python",
   "name": "python3"
  },
  "language_info": {
   "codemirror_mode": {
    "name": "ipython",
    "version": 3
   },
   "file_extension": ".py",
   "mimetype": "text/x-python",
   "name": "python",
   "nbconvert_exporter": "python",
   "pygments_lexer": "ipython3",
   "version": "3.13.0"
  }
 },
 "nbformat": 4,
 "nbformat_minor": 2
}
