{
 "cells": [
  {
   "cell_type": "code",
   "execution_count": null,
   "metadata": {},
   "outputs": [],
   "source": [
    "import sys\n",
    "import re"
   ]
  },
  {
   "cell_type": "code",
   "execution_count": 8,
   "metadata": {},
   "outputs": [],
   "source": [
    "# Read and process the input\n",
    "equations = {}\n",
    "for line in open(\"tmp.txt\"):\n",
    "    line = line.strip()\n",
    "    if not line:\n",
    "        continue  # Skip empty lines\n",
    "    key, value = line.split(':')\n",
    "    key = int(key)\n",
    "    numbers = list(map(int, re.findall(r'\\d+', value)))\n",
    "    equations[key] = numbers"
   ]
  },
  {
   "cell_type": "code",
   "execution_count": 9,
   "metadata": {},
   "outputs": [],
   "source": [
    "def generate_values(numbers, concatenate=False):\n",
    "    values = {numbers[0]}\n",
    "    for num in numbers[1:]:\n",
    "        new_values = set()\n",
    "        for val in values:\n",
    "            new_values.add(val + num)\n",
    "            new_values.add(val * num)\n",
    "            if concatenate:\n",
    "                concatenated = int(f\"{val}{num}\")\n",
    "                new_values.add(concatenated)\n",
    "        values = new_values\n",
    "    return values"
   ]
  },
  {
   "cell_type": "code",
   "execution_count": 10,
   "metadata": {},
   "outputs": [],
   "source": [
    "part1 = 0\n",
    "part2 = 0\n",
    "\n",
    "# Process each equation\n",
    "for total, numbers in equations.items():\n",
    "    values1 = generate_values(numbers)\n",
    "    values2 = generate_values(numbers, True)\n",
    "    \n",
    "    # Check if total is in the possible values\n",
    "    if total in values1:\n",
    "        part1 += total\n",
    "    if total in values2:\n",
    "        part2 += total"
   ]
  },
  {
   "cell_type": "code",
   "execution_count": 11,
   "metadata": {},
   "outputs": [
    {
     "name": "stdout",
     "output_type": "stream",
     "text": [
      "Part 1: 3749\n",
      "Part 2: 11387\n"
     ]
    }
   ],
   "source": [
    "# Output the results\n",
    "print(f\"Part 1: {part1}\")\n",
    "print(f\"Part 2: {part2}\")"
   ]
  }
 ],
 "metadata": {
  "kernelspec": {
   "display_name": "Python 3",
   "language": "python",
   "name": "python3"
  },
  "language_info": {
   "codemirror_mode": {
    "name": "ipython",
    "version": 3
   },
   "file_extension": ".py",
   "mimetype": "text/x-python",
   "name": "python",
   "nbconvert_exporter": "python",
   "pygments_lexer": "ipython3",
   "version": "3.13.0"
  }
 },
 "nbformat": 4,
 "nbformat_minor": 2
}
